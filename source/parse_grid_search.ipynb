{
 "cells": [
  {
   "cell_type": "code",
   "id": "initial_id",
   "metadata": {
    "collapsed": true,
    "ExecuteTime": {
     "end_time": "2025-05-21T23:15:32.309793Z",
     "start_time": "2025-05-21T23:15:32.307538Z"
    }
   },
   "source": [
    "from pathlib import Path\n",
    "import pandas as pd\n",
    "import os\n",
    "import yaml"
   ],
   "outputs": [],
   "execution_count": 35
  },
  {
   "metadata": {
    "ExecuteTime": {
     "end_time": "2025-05-21T23:15:32.455315Z",
     "start_time": "2025-05-21T23:15:32.450828Z"
    }
   },
   "cell_type": "code",
   "source": [
    "def parse_grid_results(grid_output_dir):\n",
    "    data = []\n",
    "    dirs = [str(d) for d in Path(grid_output_dir).rglob(\"*\") if d.is_dir()]\n",
    "    for d in dirs:\n",
    "        df = pd.read_csv(f\"{d}/training_epoches.tsv\", sep='\\t')\n",
    "        with open(f\"{d}/model_cfg.yaml\") as f:\n",
    "            opt_cfg = yaml.safe_load(f)['optimizer']\n",
    "        best_val_error = df['val_loss'].min()\n",
    "        data.append({'lr': opt_cfg['lr'], \n",
    "                     'wd': opt_cfg['weight_decay'], \n",
    "                     'beta1': opt_cfg['beta1'],\n",
    "                     'beta2': opt_cfg['beta2'],\n",
    "                     'val_loss': best_val_error})\n",
    "    return pd.DataFrame(data)"
   ],
   "id": "9c5a8285055801b8",
   "outputs": [],
   "execution_count": 36
  },
  {
   "metadata": {
    "ExecuteTime": {
     "end_time": "2025-05-21T23:15:32.623797Z",
     "start_time": "2025-05-21T23:15:32.618997Z"
    }
   },
   "cell_type": "code",
   "source": [
    "master_dir = '/home/zhaoyang-new/School_Work/cse251b_project/model_outs/GS_LSTM_2048_part1'\n",
    "parse_grid_results(master_dir)"
   ],
   "id": "2635c573085b5fae",
   "outputs": [
    {
     "data": {
      "text/plain": [
       "Empty DataFrame\n",
       "Columns: []\n",
       "Index: []"
      ],
      "text/html": [
       "<div>\n",
       "<style scoped>\n",
       "    .dataframe tbody tr th:only-of-type {\n",
       "        vertical-align: middle;\n",
       "    }\n",
       "\n",
       "    .dataframe tbody tr th {\n",
       "        vertical-align: top;\n",
       "    }\n",
       "\n",
       "    .dataframe thead th {\n",
       "        text-align: right;\n",
       "    }\n",
       "</style>\n",
       "<table border=\"1\" class=\"dataframe\">\n",
       "  <thead>\n",
       "    <tr style=\"text-align: right;\">\n",
       "      <th></th>\n",
       "    </tr>\n",
       "  </thead>\n",
       "  <tbody>\n",
       "  </tbody>\n",
       "</table>\n",
       "</div>"
      ]
     },
     "execution_count": 37,
     "metadata": {},
     "output_type": "execute_result"
    }
   ],
   "execution_count": 37
  },
  {
   "metadata": {},
   "cell_type": "code",
   "outputs": [],
   "execution_count": null,
   "source": "",
   "id": "bd41ba205259625b"
  }
 ],
 "metadata": {
  "kernelspec": {
   "display_name": "Python 3",
   "language": "python",
   "name": "python3"
  },
  "language_info": {
   "codemirror_mode": {
    "name": "ipython",
    "version": 2
   },
   "file_extension": ".py",
   "mimetype": "text/x-python",
   "name": "python",
   "nbconvert_exporter": "python",
   "pygments_lexer": "ipython2",
   "version": "2.7.6"
  }
 },
 "nbformat": 4,
 "nbformat_minor": 5
}
